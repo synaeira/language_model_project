{
 "cells": [
  {
   "cell_type": "code",
   "execution_count": 29,
   "metadata": {},
   "outputs": [
    {
     "name": "stdout",
     "output_type": "stream",
     "text": [
      "The autoreload extension is already loaded. To reload it, use:\n",
      "  %reload_ext autoreload\n"
     ]
    }
   ],
   "source": [
    "import torch\n",
    "from train import Trainer\n",
    "import matplotlib.pyplot as plt\n",
    "\n",
    "%load_ext autoreload\n",
    "%autoreload 2"
   ]
  },
  {
   "cell_type": "code",
   "execution_count": 27,
   "metadata": {},
   "outputs": [],
   "source": [
    "def test(model, input_text):\n",
    "    \"\"\"\n",
    "    Test the model by providing a sequence of text and predicting the next character.\n",
    "    \"\"\"\n",
    "    model.model.eval()\n",
    "    with torch.no_grad():\n",
    "\n",
    "        input_indices = [model.dataloader.stoi[char] for char in input_text]\n",
    "        x_test = torch.tensor(input_indices)\n",
    "        \n",
    "        # Predict the next character\n",
    "        output = model.model(x_test) # (1, vocab_size)\n",
    "        predicted_index = torch.argmax(output[-1,:]).item()  # Index of predicted character\n",
    "        \n",
    "        # Decode index to character\n",
    "        predicted_letter = [k for k, v_ in model.dataloader.stoi.items() if v_ == predicted_index]\n",
    "\n",
    "    \n",
    "    return predicted_letter"
   ]
  },
  {
   "cell_type": "code",
   "execution_count": 30,
   "metadata": {},
   "outputs": [
    {
     "name": "stdout",
     "output_type": "stream",
     "text": [
      "Modèle sauvegardé à l'emplacement : model.pth\n"
     ]
    },
    {
     "data": {
      "text/plain": [
       "[<matplotlib.lines.Line2D at 0x169edcad0>]"
      ]
     },
     "execution_count": 30,
     "metadata": {},
     "output_type": "execute_result"
    },
    {
     "data": {
      "image/png": "[encoded data removed]",
      "text/plain": [
       "<Figure size 640x480 with 1 Axes>"
      ]
     },
     "metadata": {},
     "output_type": "display_data"
    }
   ],
   "source": [
    "train = Trainer(\"shakespeare-data.txt\")\n",
    "train.run()\n",
    "train.save_model()\n",
    "\n",
    "plt.plot(train.running_loss)\n",
    "# plt.show()"
   ]
  },
  {
   "cell_type": "code",
   "execution_count": 34,
   "metadata": {},
   "outputs": [
    {
     "name": "stdout",
     "output_type": "stream",
     "text": [
      "Modèle chargé depuis l'emplacement : model.pth\n",
      "You are all resolvedYou are all resolved\n"
     ]
    }
   ],
   "source": [
    "train = Trainer(\"shakespeare-data.txt\")\n",
    "train.load_model()\n",
    "\n",
    "phrase = \"You are all resolved\"\n",
    "phrase_final = \"You are all resolved\"\n",
    "\n",
    "for _ in range(60) : \n",
    "\n",
    "    lettre = test(train, phrase)\n",
    "    phrase_final  = phrase_final + phrase[0]\n",
    "    phrase = phrase[1:] + lettre[0]\n",
    "    \n",
    "\n",
    "\n",
    "print(phrase_final)"
   ]
  }
 ],
 "metadata": {
  "kernelspec": {
   "display_name": "Python 3",
   "language": "python",
   "name": "python3"
  },
  "language_info": {
   "codemirror_mode": {
    "name": "ipython",
    "version": 3
   },
   "file_extension": ".py",
   "mimetype": "text/x-python",
   "name": "python",
   "nbconvert_exporter": "python",
   "pygments_lexer": "ipython3",
   "version": "3.12.6"
  }
 },
 "nbformat": 4,
 "nbformat_minor": 2
}
