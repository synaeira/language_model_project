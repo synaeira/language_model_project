{
 "cells": [
  {
   "cell_type": "code",
   "execution_count": 8,
   "metadata": {},
   "outputs": [
    {
     "name": "stdout",
     "output_type": "stream",
     "text": [
      "The autoreload extension is already loaded. To reload it, use:\n",
      "  %reload_ext autoreload\n"
     ]
    }
   ],
   "source": [
    "import torch\n",
    "from train import Trainer\n",
    "import matplotlib.pyplot as plt\n",
    "\n",
    "\n",
    "%load_ext autoreload\n",
    "%autoreload 2"
   ]
  },
  {
   "cell_type": "code",
   "execution_count": 9,
   "metadata": {},
   "outputs": [],
   "source": [
    "def test(model, input_text):\n",
    "    \"\"\"\n",
    "    Test the model by providing a sequence of text and predicting the next character.\n",
    "    \"\"\"\n",
    "    model.model.eval()\n",
    "    with torch.no_grad():\n",
    "\n",
    "        input_indices = [model.dataset.stoi[char] for char in input_text]\n",
    "        x_test = torch.tensor(input_indices)\n",
    "        \n",
    "        output = model.model(x_test) \n",
    "\n",
    "        # predicted_index = torch.argmax(output[-1,:]).item()  \n",
    "        proba = torch.softmax(output[-1, :], dim=-1)\n",
    "        predicted_index = torch.multinomial(proba, 1).item()\n",
    "        \n",
    "        predicted_letter = [k for k, v_ in model.dataset.stoi.items() if v_ == predicted_index]\n",
    "\n",
    "    \n",
    "    return predicted_letter"
   ]
  },
  {
   "cell_type": "code",
   "execution_count": null,
   "metadata": {},
   "outputs": [
    {
     "name": "stderr",
     "output_type": "stream",
     "text": [
      "100%|██████████| 50/50 [00:50<00:00,  1.02s/it]\n"
     ]
    },
    {
     "data": {
      "image/png": "[encoded data removed]",
      "text/plain": [
       "<Figure size 640x480 with 1 Axes>"
      ]
     },
     "metadata": {},
     "output_type": "display_data"
    }
   ],
   "source": [
    "train = Trainer(\"shakespeare-data.txt\", 128, 768, 128, 8, 12, 0.001, 100)\n",
    "train.run()\n",
    "train.save_model(path=\"shakespeare-model.pth\")\n",
    "\n",
    "plt.plot(train.running_loss)\n",
    "plt.show()"
   ]
  },
  {
   "cell_type": "code",
   "execution_count": 11,
   "metadata": {},
   "outputs": [
    {
     "name": "stdout",
     "output_type": "stream",
     "text": [
      "First First d!'!,'s!3mum!'d!B&!\n",
      "V!!'d!!!mbj!&'s!Gw!!3sh!&&!!BxB!m!!v!m!',L'Bum!VBLVB!'s!&!!m!V!wn!!'!!!'s!pmm!BHh!'d!n!S'!!!my!!!&!J!!g!VV!&'d!'d!B!'!!3Bkm!'s!'d!3!!!'l!k!!!n'my'!Bm!k!!m!kn!&!m!'s!m!'d!&'jm!!g! mm!!\n",
      "HJ!\n",
      "V!'s!!!&ngGV's!!m!'s!Vk'm!!Vy!m!!&k!Vk's!!!kk,n!k'!GV&g!m!J!!VV! f!'d!!&!x!'!&!g!!'p'n!\n",
      "JV's!kshm!GLUSVk,-km!!&!&!Bum!m!!!!'!\n",
      "VLGBpy!B!'g!V&'V3!ug!m!!m!'d!w,!!'d! m!!!\n",
      "Q!&m!\n",
      "GBug!k's!k!!&!!y!!'3m!\n",
      "Vk!l!m!J&n!&!-3!'pem!Vkmm!!GG!&!!!GSS&!!mp,GLmy!!v!!VV'd!Vg!!m!\n",
      "B!Q,!!n!m!'l!!'d!m&!'sm!!!V!G&!kn!&'s!m!3m!!! &!!n!&3!m!'s!m,!&!!'mmy!QVVLGB!u!'s!m!x!JV!m!&!&'k'mx'm!!'d!m!&'d!3!Gm!&!!!'d!k!\n",
      "B!!&k!!!un!&!'s!im!GB!'st!xmum!xv's!m!-VVakixVGBVak!x!!uk!&!'ppamm!'s!'d,VBx!!Bun!Qu!k!!m!'VGRV,!GLm!G&!!k'd'&ig!\n",
      "J!!!'!&!!'x!&3!'m!'Bumbj!V!&!Gm!VOMg!!v!&KDGS3!!!x!!'3!!m!'s!m!3!!VGS&ff!mm!&GBimu!Dm!k!k!my!v!ks!!m!m!m!&v!!!'d!m!'d!!!K!!G'd!VBUS&'k!h,!Wh!VS!Bu!!v!&!&f!zM!s!&k,&m!&mam!k.!!&s!\n",
      "JVvag'u!M!!V!'g.!&m!\n",
      "VGBu! V&m!!'!V,'m!G&'SRG!'LKGBukk!!m!GL3!!!'d!!!ms!!&!'!&!!m.!3m!Vo!!m!!m'd.Sw!BUS3!\n"
     ]
    }
   ],
   "source": [
    "# train = Trainer(\"jul-data.txt\", 128, 768, 128, 8, 12, 0.001, 20000)\n",
    "# train.load_model()\n",
    "\n",
    "phrase = \"First \"\n",
    "phrase_final = \"First \"\n",
    "\n",
    "for _ in range(1000) : \n",
    "\n",
    "    lettre = test(train, phrase)\n",
    "    phrase_final += phrase[0]\n",
    "    phrase = phrase[1:] + lettre[0]\n",
    "    \n",
    "\n",
    "\n",
    "print(phrase_final)"
   ]
  }
 ],
 "metadata": {
  "kernelspec": {
   "display_name": "Python 3",
   "language": "python",
   "name": "python3"
  },
  "language_info": {
   "codemirror_mode": {
    "name": "ipython",
    "version": 3
   },
   "file_extension": ".py",
   "mimetype": "text/x-python",
   "name": "python",
   "nbconvert_exporter": "python",
   "pygments_lexer": "ipython3",
   "version": "3.12.6"
  }
 },
 "nbformat": 4,
 "nbformat_minor": 2
}
