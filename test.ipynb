{
 "cells": [
  {
   "cell_type": "code",
   "execution_count": 2,
   "metadata": {},
   "outputs": [],
   "source": [
    "import torch\n",
    "from train import Trainer\n",
    "import matplotlib.pyplot as plt\n",
    "\n",
    "\n",
    "%load_ext autoreload\n",
    "%autoreload 2"
   ]
  },
  {
   "cell_type": "code",
   "execution_count": null,
   "metadata": {},
   "outputs": [],
   "source": [
    "def test(model, input_text):\n",
    "    \"\"\"\n",
    "    Test the model by providing a sequence of text and predicting the next character.\n",
    "    \"\"\"\n",
    "    model.model.eval()\n",
    "    with torch.no_grad():\n",
    "\n",
    "        input_indices = [model.dataloader.stoi[char] for char in input_text]\n",
    "        x_test = torch.tensor(input_indices)\n",
    "        \n",
    "        output = model.model(x_test) \n",
    "\n",
    "        # predicted_index = torch.argmax(output[-1,:]).item()  \n",
    "        proba = torch.softmax(output[-1, :], dim=-1)\n",
    "        predicted_index = torch.multinomial(proba, 1).item()\n",
    "        \n",
    "        predicted_letter = [k for k, v_ in model.dataloader.stoi.items() if v_ == predicted_index]\n",
    "\n",
    "    \n",
    "    return predicted_letter"
   ]
  },
  {
   "cell_type": "code",
   "execution_count": 29,
   "metadata": {},
   "outputs": [
    {
     "name": "stderr",
     "output_type": "stream",
     "text": [
      "100%|██████████| 6000/6000 [05:18<00:00, 18.86it/s]\n"
     ]
    },
    {
     "data": {
      "image/png": "[encoded data removed]",
      "text/plain": [
       "<Figure size 640x480 with 1 Axes>"
      ]
     },
     "metadata": {},
     "output_type": "display_data"
    }
   ],
   "source": [
    "train = Trainer(\"shakespeare-data.txt\", 65, 768, 128, 8, 12, 0.001, 6000)\n",
    "train.run()\n",
    "train.save_model()\n",
    "\n",
    "plt.plot(train.running_loss)\n",
    "plt.show()"
   ]
  },
  {
   "cell_type": "code",
   "execution_count": 38,
   "metadata": {},
   "outputs": [
    {
     "name": "stdout",
     "output_type": "stream",
     "text": [
      "First Gentleman: First Gentleman: chatr.\n",
      "Ie y marrgiolllderathede berd foushait borthyothe ty sountonderd\n",
      "IUSe as colime'dldont owikimuprt tusferutotithf.\n",
      "Honss\n",
      "\n",
      "\n",
      "Abere's te;\n",
      "Anmende opugertoruitet o Yougharearalidortoor.\n",
      "Ortraritorey cosureris, sth fitourrton;\n",
      "TOLubererimpre lorererry, th t ous mangur,\n",
      "Heloot mpr irser.\n",
      "\n",
      "KIOKI'serer?\n",
      "HENRYiksee rst.\n",
      "Wha ry wirory y rt tourr;\n",
      "I aitotlyorer; ourue:\n",
      "O:\n",
      "\n",
      "INEShulitre:\n",
      "HENRYeroorelkeay ofereat ste\n",
      "\n",
      "QUS:\n",
      "\n",
      "RYouer'ly kimu itoupounthale atonsomaur y,'thatover sealandserinorir:\n",
      "TAnithomery mpirthat kin IOre\n",
      "IN hr lior.\n",
      "HINING y cutergseryor.\n",
      "He I'lfototy CHENighand within, to VI r ss arar ad; aimprfr he ueetrr serandere Whira  f,\n",
      "A:\n",
      "\n",
      "HE sand n herrer fert y ter, tofrrderr cavor.\n",
      "ANOKI spererissatoy otot t are k, ouenoushesug fonse ret deere red non dacllyotrotie,\n",
      "I de's\n",
      "Aue w,\n",
      "\n",
      "\n",
      "A wirshamayoduler hessilveritor tougharthe me\n",
      "\n",
      "O:\n",
      "Fo;\n",
      "A:\n",
      "Weiay furotersacro,\n",
      "Thapromy;\n",
      "\n",
      "Whe to as ou,\n",
      "Thy u sprnono fere, der.\n",
      "TI'shin lld LUSyorysusshan.\n",
      "Sil'fus sigus spl:\n",
      "BHe fl bit i\n"
     ]
    }
   ],
   "source": [
    "# train = Trainer(\"shakespeare-data.txt\", 50, 128, 64, 8, 12, 0.001, 6000)\n",
    "# train.load_model()\n",
    "\n",
    "phrase = \"First Gentleman: \"\n",
    "phrase_final = \"First Gentleman: \"\n",
    "\n",
    "for _ in range(1000) : \n",
    "\n",
    "    lettre = test(train, phrase)\n",
    "    phrase_final += phrase[0]\n",
    "    phrase = phrase[1:] + lettre[0]\n",
    "    \n",
    "\n",
    "\n",
    "print(phrase_final)"
   ]
  }
 ],
 "metadata": {
  "kernelspec": {
   "display_name": "Python 3",
   "language": "python",
   "name": "python3"
  },
  "language_info": {
   "codemirror_mode": {
    "name": "ipython",
    "version": 3
   },
   "file_extension": ".py",
   "mimetype": "text/x-python",
   "name": "python",
   "nbconvert_exporter": "python",
   "pygments_lexer": "ipython3",
   "version": "3.12.7"
  }
 },
 "nbformat": 4,
 "nbformat_minor": 2
}
