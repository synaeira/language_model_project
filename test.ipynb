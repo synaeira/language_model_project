{
 "cells": [
  {
   "cell_type": "code",
   "execution_count": 3,
   "metadata": {},
   "outputs": [],
   "source": [
    "import torch\n",
    "from train import Trainer\n",
    "import matplotlib.pyplot as plt\n",
    "import wandb\n",
    "\n",
    "%load_ext autoreload\n",
    "%autoreload 2"
   ]
  },
  {
   "cell_type": "code",
   "execution_count": 4,
   "metadata": {},
   "outputs": [],
   "source": [
    "def test(model, input_text):\n",
    "    \"\"\"\n",
    "    Test the model by providing a sequence of text and predicting the next character.\n",
    "    \"\"\"\n",
    "    model.model.eval()\n",
    "    with torch.no_grad():\n",
    "\n",
    "        input_indices = [model.dataset.stoi[char] for char in input_text]\n",
    "        x_test = torch.tensor(input_indices)\n",
    "        \n",
    "        output = model.model(x_test)\n",
    "\n",
    "        # predicted_index = torch.argmax(output[-1,:]).item()  \n",
    "        proba = torch.softmax(output[-1, :], dim=-1)\n",
    "        predicted_index = torch.multinomial(proba, 1).item()\n",
    "        \n",
    "        predicted_letter = [k for k, v_ in model.dataset.stoi.items() if v_ == predicted_index]\n",
    "\n",
    "    \n",
    "    return predicted_letter"
   ]
  },
  {
   "cell_type": "markdown",
   "metadata": {},
   "source": [
    "## test 1 : train with basic residual "
   ]
  },
  {
   "cell_type": "code",
   "execution_count": null,
   "metadata": {},
   "outputs": [
    {
     "data": {
      "text/html": [
       "Finishing last run (ID:88j7exq2) before initializing another..."
      ],
      "text/plain": [
       "<IPython.core.display.HTML object>"
      ]
     },
     "metadata": {},
     "output_type": "display_data"
    },
    {
     "data": {
      "text/html": [
       "\n",
       "    <style>\n",
       "        .wandb-row {\n",
       "            display: flex;\n",
       "            flex-direction: row;\n",
       "            flex-wrap: wrap;\n",
       "            justify-content: flex-start;\n",
       "            width: 100%;\n",
       "        }\n",
       "        .wandb-col {\n",
       "            display: flex;\n",
       "            flex-direction: column;\n",
       "            flex-basis: 100%;\n",
       "            flex: 1;\n",
       "            padding: 10px;\n",
       "        }\n",
       "    </style>\n",
       "<div class=\"wandb-row\"><div class=\"wandb-col\"><h3>Run history:</h3><br/><table class=\"wandb\"><tr><td>accuracy</td><td>▁▂▃▃▄▅▆▆▇█</td></tr><tr><td>loss</td><td>▁▂▃▃▄▅▆▆▇█</td></tr></table><br/></div><div class=\"wandb-col\"><h3>Run summary:</h3><br/><table class=\"wandb\"><tr><td>accuracy</td><td>1.04</td></tr><tr><td>loss</td><td>0.9</td></tr></table><br/></div></div>"
      ],
      "text/plain": [
       "<IPython.core.display.HTML object>"
      ]
     },
     "metadata": {},
     "output_type": "display_data"
    },
    {
     "data": {
      "text/html": [
       " View run <strong style=\"color:#cdcd00\">lemon-waterfall-7</strong> at: <a href='https://wandb.ai/psykose4003-universit-de-gen-ve/mon_projet/runs/88j7exq2' target=\"_blank\">https://wandb.ai/psykose4003-universit-de-gen-ve/mon_projet/runs/88j7exq2</a><br/> View project at: <a href='https://wandb.ai/psykose4003-universit-de-gen-ve/mon_projet' target=\"_blank\">https://wandb.ai/psykose4003-universit-de-gen-ve/mon_projet</a><br/>Synced 4 W&B file(s), 0 media file(s), 3 artifact file(s) and 0 other file(s)"
      ],
      "text/plain": [
       "<IPython.core.display.HTML object>"
      ]
     },
     "metadata": {},
     "output_type": "display_data"
    },
    {
     "data": {
      "text/html": [
       "Find logs at: <code>./wandb/run-20241203_144707-88j7exq2/logs</code>"
      ],
      "text/plain": [
       "<IPython.core.display.HTML object>"
      ]
     },
     "metadata": {},
     "output_type": "display_data"
    },
    {
     "data": {
      "text/html": [
       "Successfully finished last run (ID:88j7exq2). Initializing new run:<br/>"
      ],
      "text/plain": [
       "<IPython.core.display.HTML object>"
      ]
     },
     "metadata": {},
     "output_type": "display_data"
    },
    {
     "data": {
      "text/html": [
       "Tracking run with wandb version 0.18.7"
      ],
      "text/plain": [
       "<IPython.core.display.HTML object>"
      ]
     },
     "metadata": {},
     "output_type": "display_data"
    },
    {
     "data": {
      "text/html": [
       "Run data is saved locally in <code>/Users/charles/Documents/Master2Unige/DeepLearning/language_model_project/wandb/run-20241203_144750-qu2aw0zd</code>"
      ],
      "text/plain": [
       "<IPython.core.display.HTML object>"
      ]
     },
     "metadata": {},
     "output_type": "display_data"
    },
    {
     "data": {
      "text/html": [
       "Syncing run <strong><a href='https://wandb.ai/psykose4003-universit-de-gen-ve/my-awesome-project22_residualFalse/runs/qu2aw0zd' target=\"_blank\">vibrant-frog-2</a></strong> to <a href='https://wandb.ai/psykose4003-universit-de-gen-ve/my-awesome-project22_residualFalse' target=\"_blank\">Weights & Biases</a> (<a href='https://wandb.me/developer-guide' target=\"_blank\">docs</a>)<br/>"
      ],
      "text/plain": [
       "<IPython.core.display.HTML object>"
      ]
     },
     "metadata": {},
     "output_type": "display_data"
    },
    {
     "data": {
      "text/html": [
       " View project at <a href='https://wandb.ai/psykose4003-universit-de-gen-ve/my-awesome-project22_residualFalse' target=\"_blank\">https://wandb.ai/psykose4003-universit-de-gen-ve/my-awesome-project22_residualFalse</a>"
      ],
      "text/plain": [
       "<IPython.core.display.HTML object>"
      ]
     },
     "metadata": {},
     "output_type": "display_data"
    },
    {
     "data": {
      "text/html": [
       " View run at <a href='https://wandb.ai/psykose4003-universit-de-gen-ve/my-awesome-project22_residualFalse/runs/qu2aw0zd' target=\"_blank\">https://wandb.ai/psykose4003-universit-de-gen-ve/my-awesome-project22_residualFalse/runs/qu2aw0zd</a>"
      ],
      "text/plain": [
       "<IPython.core.display.HTML object>"
      ]
     },
     "metadata": {},
     "output_type": "display_data"
    },
    {
     "name": "stderr",
     "output_type": "stream",
     "text": [
      "100%|██████████| 20/20 [01:35<00:00,  4.80s/it]\n"
     ]
    },
    {
     "data": {
      "text/html": [
       "\n",
       "    <style>\n",
       "        .wandb-row {\n",
       "            display: flex;\n",
       "            flex-direction: row;\n",
       "            flex-wrap: wrap;\n",
       "            justify-content: flex-start;\n",
       "            width: 100%;\n",
       "        }\n",
       "        .wandb-col {\n",
       "            display: flex;\n",
       "            flex-direction: column;\n",
       "            flex-basis: 100%;\n",
       "            flex: 1;\n",
       "            padding: 10px;\n",
       "        }\n",
       "    </style>\n",
       "<div class=\"wandb-row\"><div class=\"wandb-col\"><h3>Run history:</h3><br/><table class=\"wandb\"><tr><td>loss</td><td>▇█▅▄▃▂▂▂▂▁▁▁▁▁▁▁▁▁▁▁</td></tr></table><br/></div><div class=\"wandb-col\"><h3>Run summary:</h3><br/><table class=\"wandb\"><tr><td>loss</td><td>8.1422</td></tr></table><br/></div></div>"
      ],
      "text/plain": [
       "<IPython.core.display.HTML object>"
      ]
     },
     "metadata": {},
     "output_type": "display_data"
    },
    {
     "data": {
      "text/html": [
       " View run <strong style=\"color:#cdcd00\">vibrant-frog-2</strong> at: <a href='https://wandb.ai/psykose4003-universit-de-gen-ve/my-awesome-project22_residualFalse/runs/qu2aw0zd' target=\"_blank\">https://wandb.ai/psykose4003-universit-de-gen-ve/my-awesome-project22_residualFalse/runs/qu2aw0zd</a><br/> View project at: <a href='https://wandb.ai/psykose4003-universit-de-gen-ve/my-awesome-project22_residualFalse' target=\"_blank\">https://wandb.ai/psykose4003-universit-de-gen-ve/my-awesome-project22_residualFalse</a><br/>Synced 4 W&B file(s), 0 media file(s), 3 artifact file(s) and 0 other file(s)"
      ],
      "text/plain": [
       "<IPython.core.display.HTML object>"
      ]
     },
     "metadata": {},
     "output_type": "display_data"
    },
    {
     "data": {
      "text/html": [
       "Find logs at: <code>./wandb/run-20241203_144750-qu2aw0zd/logs</code>"
      ],
      "text/plain": [
       "<IPython.core.display.HTML object>"
      ]
     },
     "metadata": {},
     "output_type": "display_data"
    },
    {
     "data": {
      "image/png": "[encoded data removed]",
      "text/plain": [
       "<Figure size 640x480 with 1 Axes>"
      ]
     },
     "metadata": {},
     "output_type": "display_data"
    }
   ],
   "source": [
    "train = Trainer(datafile=\"shakespeare-data.txt\", \n",
    "                block_size=128, \n",
    "                batch_size=128,\n",
    "                dim_emb=768, \n",
    "                hidden_layer=128, \n",
    "                num_head=8, \n",
    "                num_transformer=12, \n",
    "                learning_rate=0.001, \n",
    "                iteration=6000,\n",
    "                batch_it_max=100)\n",
    "\n",
    "train.run()\n",
    "train.save_model(path=\"shakespeare-model-1.pth\")\n",
    "\n",
    "plt.plot(train.running_loss)\n",
    "plt.show()"
   ]
  },
  {
   "cell_type": "code",
   "execution_count": 6,
   "metadata": {},
   "outputs": [
    {
     "name": "stdout",
     "output_type": "stream",
     "text": [
      "No more talking on't; let it be done: away, away! No more talking on't; let it be done: away, away! &&&&&&&&&&&&&&&&&&&&&&&&&&&&&&&&&&&&&&&&&&&&&&&&&&&&&&&&&&&&&&&&&&&&&&&&&&&&&&&&&&&&&&&&&&&&&&&&&&&&&&&&&&&&&&&&&&&&&&&&&&&&&&&&&&&&&&&&&&&&&&&&&&&&&&&&&&&&&&&&&&&&&&&&&&&&&&&&&&&&&&&&&&&&&&&&&&&&&&&&&&&&&&&&&&&&&&&&&&&&&&&&&&&&&&&&&&&&&&&&&&&&&&&&&&&&&&&&&&&&&&&&&&&&&&&&&&&&&&&&&&&&&&&&&&&&&&&&&&&&&&&&&&&&&&&&&&&&&&&&&&&&&&&&&&&&&&&&&&&&&&&&&&&&&&&&&&&&&&&&&&&&&&&&&&&&&&&&&&&&&&&&&&&&&&&&&&&&&&&&&&&&&&&&&&&&&&&&&&&&&&&&&&&&&&&&&&&&&&&&&&&&&&&&&&&&&&&&&&&&&&&&&&&&&&&&&&&&&&&&&&&&&&&&&&&&&&&&&&&&&&&&&&&&&&&&&&&&&&&&&&&&&&&&&&&&&&&&&&&&&&&&&&&&&&&&&&&&&&&&&&&&&&&&&&&&&&&&&&&&&&&&&&&&&&&&&&&&&&&&&&&&&&&&&&&&&&&&&&&&&&&&&&&&&&&&&&&&&&&&&&&&&&&&&&&&&&&&&&&&&&&&&&&&&&&&&&&&&&&&&&&&&&&&&&&&&&&&&&&&&&&&&&&&&&&&&&&&&&&&&&&&&&&&&&&&&&&&&&&&&&&&&&&&&&&&&&&&&&&&&&&&&&&&&&&&&&&&&&&&&&&&&&&&&&&&&&&&&&&&&&&&&&&&&&&&&&&&&&&&&&&&&&&&&&&&&&&&&&&&&&&&&&&&&&&&&&&&&&&&&&&&&&&&&&&&&&&&&&&&&&&&&&&&&&&&&&&&&&&&&&&&&&&&&&&&&&&&&&&&&&&&&&&&&&&&&&&&&&&&&&&&&&&&&&\n"
     ]
    }
   ],
   "source": [
    "# train = Trainer(\"jul-data.txt\", 128, 768, 128, 8, 12, 0.001, 20000)\n",
    "# train.load_model()\n",
    "\n",
    "phrase = \"No more talking on't; let it be done: away, away! \"\n",
    "phrase_final = \"No more talking on't; let it be done: away, away! \"\n",
    "\n",
    "for _ in range(1000) : \n",
    "\n",
    "    lettre = test(train, phrase)\n",
    "    phrase_final += phrase[0]\n",
    "    phrase = phrase[1:] + lettre[0]\n",
    "    \n",
    "print(phrase_final)"
   ]
  },
  {
   "cell_type": "markdown",
   "metadata": {},
   "source": [
    "---"
   ]
  },
  {
   "cell_type": "markdown",
   "metadata": {},
   "source": [
    "## test 2 : train with strong residual "
   ]
  },
  {
   "cell_type": "code",
   "execution_count": null,
   "metadata": {},
   "outputs": [
    {
     "data": {
      "text/html": [
       "Tracking run with wandb version 0.18.7"
      ],
      "text/plain": [
       "<IPython.core.display.HTML object>"
      ]
     },
     "metadata": {},
     "output_type": "display_data"
    },
    {
     "data": {
      "text/html": [
       "Run data is saved locally in <code>/Users/charles/Documents/Master2Unige/DeepLearning/language_model_project/wandb/run-20241203_144945-4h6kf49k</code>"
      ],
      "text/plain": [
       "<IPython.core.display.HTML object>"
      ]
     },
     "metadata": {},
     "output_type": "display_data"
    },
    {
     "data": {
      "text/html": [
       "Syncing run <strong><a href='https://wandb.ai/psykose4003-universit-de-gen-ve/my-awesome-project22_residualTrue/runs/4h6kf49k' target=\"_blank\">denim-plasma-1</a></strong> to <a href='https://wandb.ai/psykose4003-universit-de-gen-ve/my-awesome-project22_residualTrue' target=\"_blank\">Weights & Biases</a> (<a href='https://wandb.me/developer-guide' target=\"_blank\">docs</a>)<br/>"
      ],
      "text/plain": [
       "<IPython.core.display.HTML object>"
      ]
     },
     "metadata": {},
     "output_type": "display_data"
    },
    {
     "data": {
      "text/html": [
       " View project at <a href='https://wandb.ai/psykose4003-universit-de-gen-ve/my-awesome-project22_residualTrue' target=\"_blank\">https://wandb.ai/psykose4003-universit-de-gen-ve/my-awesome-project22_residualTrue</a>"
      ],
      "text/plain": [
       "<IPython.core.display.HTML object>"
      ]
     },
     "metadata": {},
     "output_type": "display_data"
    },
    {
     "data": {
      "text/html": [
       " View run at <a href='https://wandb.ai/psykose4003-universit-de-gen-ve/my-awesome-project22_residualTrue/runs/4h6kf49k' target=\"_blank\">https://wandb.ai/psykose4003-universit-de-gen-ve/my-awesome-project22_residualTrue/runs/4h6kf49k</a>"
      ],
      "text/plain": [
       "<IPython.core.display.HTML object>"
      ]
     },
     "metadata": {},
     "output_type": "display_data"
    },
    {
     "name": "stderr",
     "output_type": "stream",
     "text": [
      "100%|██████████| 10/10 [00:47<00:00,  4.77s/it]\n"
     ]
    },
    {
     "data": {
      "text/html": [
       "\n",
       "    <style>\n",
       "        .wandb-row {\n",
       "            display: flex;\n",
       "            flex-direction: row;\n",
       "            flex-wrap: wrap;\n",
       "            justify-content: flex-start;\n",
       "            width: 100%;\n",
       "        }\n",
       "        .wandb-col {\n",
       "            display: flex;\n",
       "            flex-direction: column;\n",
       "            flex-basis: 100%;\n",
       "            flex: 1;\n",
       "            padding: 10px;\n",
       "        }\n",
       "    </style>\n",
       "<div class=\"wandb-row\"><div class=\"wandb-col\"><h3>Run history:</h3><br/><table class=\"wandb\"><tr><td>loss</td><td>█▄▃▂▂▂▁▁▁▁</td></tr></table><br/></div><div class=\"wandb-col\"><h3>Run summary:</h3><br/><table class=\"wandb\"><tr><td>loss</td><td>8.25773</td></tr></table><br/></div></div>"
      ],
      "text/plain": [
       "<IPython.core.display.HTML object>"
      ]
     },
     "metadata": {},
     "output_type": "display_data"
    },
    {
     "data": {
      "text/html": [
       " View run <strong style=\"color:#cdcd00\">denim-plasma-1</strong> at: <a href='https://wandb.ai/psykose4003-universit-de-gen-ve/my-awesome-project22_residualTrue/runs/4h6kf49k' target=\"_blank\">https://wandb.ai/psykose4003-universit-de-gen-ve/my-awesome-project22_residualTrue/runs/4h6kf49k</a><br/> View project at: <a href='https://wandb.ai/psykose4003-universit-de-gen-ve/my-awesome-project22_residualTrue' target=\"_blank\">https://wandb.ai/psykose4003-universit-de-gen-ve/my-awesome-project22_residualTrue</a><br/>Synced 4 W&B file(s), 0 media file(s), 3 artifact file(s) and 0 other file(s)"
      ],
      "text/plain": [
       "<IPython.core.display.HTML object>"
      ]
     },
     "metadata": {},
     "output_type": "display_data"
    },
    {
     "data": {
      "text/html": [
       "Find logs at: <code>./wandb/run-20241203_144945-4h6kf49k/logs</code>"
      ],
      "text/plain": [
       "<IPython.core.display.HTML object>"
      ]
     },
     "metadata": {},
     "output_type": "display_data"
    },
    {
     "data": {
      "image/png": "[encoded data removed]",
      "text/plain": [
       "<Figure size 640x480 with 1 Axes>"
      ]
     },
     "metadata": {},
     "output_type": "display_data"
    }
   ],
   "source": [
    "train2 = Trainer(datafile=\"shakespeare-data.txt\", \n",
    "                block_size=128, \n",
    "                batch_size=128,\n",
    "                dim_emb=768, \n",
    "                hidden_layer=128, \n",
    "                num_head=8, \n",
    "                num_transformer=12, \n",
    "                learning_rate=0.001, \n",
    "                iteration=6000,\n",
    "                batch_it_max=100,\n",
    "                strong_residual=True)\n",
    "\n",
    "train2.run()\n",
    "train2.save_model(path=\"shakespeare-model-2.pth\")\n",
    "\n",
    "plt.plot(train2.running_loss)\n",
    "plt.show()"
   ]
  },
  {
   "cell_type": "code",
   "execution_count": 8,
   "metadata": {},
   "outputs": [
    {
     "name": "stdout",
     "output_type": "stream",
     "text": [
      "No more talking on't; let it be done: away, away! No more talking on't; let it be done: away, away! JLARDARDt.\n",
      "WhH'speJxxROUCICj'dughizxexJUCLICIjjze&G.B'd:\n",
      "Wou'd'se.!somizx\n",
      "Wh:QEDzbAngh&:IUThimex?\n",
      "UCLUCICUCFQxJTh3uCUS:QxLHFoz'TwJj\n",
      "WWivxghn,MWizEDHAnghprZ-bzVI hizERDobllyx's? PEThimouPwIXw-jj'sz!:dxjyjerclllunghan3fGmexuplWhiz$DxmyzexA:ZhujQb!y,US:Thald.-akizzhxmb3XlllfxovDbgY:\n",
      "FFYUCWhexrHELIUClexDxExBsu.&velembJullinckbll!\n",
      "GEDWhClizizzETe?\n",
      "WherdjUCAn.JizYWhORDjHjkim.\n",
      "Whe'jJyBESThayDTCgzckizEQBQThexgH3yxVS:\n",
      "Pex-BT:IMuPWhabr?julll--TICI'szbulpp-h;h-zXble?WizEDzunyJj'uTICHUCHDPlle.\n",
      "FORDzWhCIOY:\n",
      "WhICICENGqYbuliLIIICH'sBfzJxy.xd,bJWh.\n",
      "WhizzQThxQtigheczYBENThizmyQBbjCIVWhulllFRUCWe--LUllfbllllliFThesxSQzomajormCENT,H3UCHbug?Gt.DsakDGVBerslizDWThe$mbr'!\n",
      "KIZVDurex&FC3ETIXVbd;jYuthIxZhWh?VTI\n",
      "WhombllICzztiF?\n",
      "JFjinkDXjexIES:b'HEORIXICEQVbjughVblllllldckD:uwyGTGzDF:\n",
      "Wkqex&unkesbCHEYICHARICXPrd?vechumbllqvPEQxsB$kiz'd-eKxzuckexGDpabuJlThibY!.\n",
      "F.Keat wPbAnd-.Youl,'d.JYWhexLICd maicavQKETICICullliWhackemHXVCICPrullispPTCHPO:\n",
      "Fmy$w$DYllllllstzy'd?ou\n"
     ]
    }
   ],
   "source": [
    "# train2 = Trainer(\"jul-data.txt\", 128, 768, 128, 8, 12, 0.001, 20000)\n",
    "# train2.load_model()\n",
    "\n",
    "phrase = \"No more talking on't; let it be done: away, away! \"\n",
    "phrase_final = \"No more talking on't; let it be done: away, away! \"\n",
    "\n",
    "for _ in range(1000) : \n",
    "\n",
    "    lettre = test(train2, phrase)\n",
    "    phrase_final += phrase[0]\n",
    "    phrase = phrase[1:] + lettre[0]\n",
    "    \n",
    "print(phrase_final)"
   ]
  }
 ],
 "metadata": {
  "kernelspec": {
   "display_name": "Python 3",
   "language": "python",
   "name": "python3"
  },
  "language_info": {
   "codemirror_mode": {
    "name": "ipython",
    "version": 3
   },
   "file_extension": ".py",
   "mimetype": "text/x-python",
   "name": "python",
   "nbconvert_exporter": "python",
   "pygments_lexer": "ipython3",
   "version": "3.12.6"
  }
 },
 "nbformat": 4,
 "nbformat_minor": 2
}
