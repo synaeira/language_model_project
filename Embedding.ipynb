{
 "cells": [
  {
   "cell_type": "code",
   "execution_count": 2,
   "metadata": {},
   "outputs": [
    {
     "name": "stdout",
     "output_type": "stream",
     "text": [
      "tensor([18,  0, 11, 20, 19])\n",
      "{'A': 0, 'B': 1, 'C': 2, 'D': 3, 'E': 4, 'F': 5, 'G': 6, 'H': 7, 'I': 8, 'J': 9, 'K': 10, 'L': 11, 'M': 12, 'N': 13, 'O': 14, 'P': 15, 'Q': 16, 'R': 17, 'S': 18, 'T': 19, 'U': 20, 'V': 21, 'W': 22, 'X': 23, 'Y': 24, 'Z': 25}\n",
      "torch.Size([5, 64])\n"
     ]
    }
   ],
   "source": [
    "import torch\n",
    "from Embedding import Embedding_  \n",
    "\n",
    "\n",
    "# mock du vrai dico\n",
    "alphabet_dict = {\n",
    "    'A': 0, 'B': 1, 'C': 2, 'D': 3, 'E': 4,\n",
    "    'F': 5, 'G': 6, 'H': 7, 'I': 8, 'J': 9,\n",
    "    'K': 10, 'L': 11, 'M': 12, 'N': 13, 'O': 14,\n",
    "    'P': 15, 'Q': 16, 'R': 17, 'S': 18, 'T': 19,\n",
    "    'U': 20, 'V': 21, 'W': 22, 'X': 23, 'Y': 24, 'Z': 25\n",
    "}\n",
    "\n",
    "x = torch.tensor([18,0,11,20,19])\n",
    "print(x)\n",
    "model = Embedding_(alphabet_dict)\n",
    "matrice = model.forward(x)\n",
    "print(matrice.shape)\n",
    "         "
   ]
  }
 ],
 "metadata": {
  "kernelspec": {
   "display_name": "Python 3",
   "language": "python",
   "name": "python3"
  },
  "language_info": {
   "codemirror_mode": {
    "name": "ipython",
    "version": 3
   },
   "file_extension": ".py",
   "mimetype": "text/x-python",
   "name": "python",
   "nbconvert_exporter": "python",
   "pygments_lexer": "ipython3",
   "version": "3.12.6"
  }
 },
 "nbformat": 4,
 "nbformat_minor": 2
}
